{
 "cells": [
  {
   "cell_type": "markdown",
   "id": "b6316e58",
   "metadata": {},
   "source": [
    "Praktikum 1\n",
    "Komputasi Numerik\n",
    "\n",
    "William Hans Chandra - 5025241138\n",
    "Yoseph Kevin Hendrata - 5025241146\n",
    "Maulana Ikhsan - 5025241163\n",
    "\n",
    "Program Komputasi Metode Regula Falsi"
   ]
  },
  {
   "cell_type": "code",
   "execution_count": 1,
   "id": "bda67974",
   "metadata": {},
   "outputs": [],
   "source": [
    "import pandas as pd\n",
    "import matplotlib.pyplot as plt\n",
    "import numpy as np\n",
    "from sympy import symbols, lambdify, sympify, pi, sin, cos, tan, exp, log, ln, sqrt\n",
    "\n",
    "MAX_ITERATION = 1000000\n",
    "\n",
    "def user_func(user_input):\n",
    "    x = symbols('x')\n",
    "    expr = sympify(user_input)\n",
    "    return lambdify(x, expr)\n",
    "\n",
    "def regula_falsi(f, a, b):\n",
    "    if f(a) * f(b) >= 0:\n",
    "        raise ValueError(\"f(a) dan f(b) harus memiliki tanda yang berbeda\")\n",
    "    data = []\n",
    "    c = a\n",
    "    for i in range(MAX_ITERATION):\n",
    "        fa = f(a)\n",
    "        fb = f(b)\n",
    "        c = (a * fb - b * fa) / (fb - fa)\n",
    "        fc = f(c)\n",
    "        data.append((i+1, a, b, c, fc))\n",
    "        if abs(fc) < 1e-6:\n",
    "            break\n",
    "        if fa * fc < 0:\n",
    "            b = c\n",
    "        else:\n",
    "            a = c\n",
    "    return c, data\n",
    "\n",
    "def plot_function(f, user_input, a, b, akar=None):\n",
    "    x_vals = np.linspace(a, b, 400)\n",
    "    y_vals = f(x_vals)\n",
    "    fig, ax = plt.subplots(figsize=(10, 5))\n",
    "    ax.plot(x_vals, y_vals, label=f'f(x) = {user_input}')\n",
    "    ax.axhline(0, color='black', linewidth=0.5)\n",
    "    if akar is not None:\n",
    "        ax.axvline(akar, color='red', linestyle='--', label=f'Akar aproksimasi: {akar:.6f}')\n",
    "    ax.set_title(\"Metode Regula Falsi\")\n",
    "    ax.set_xlabel(\"x\")\n",
    "    ax.set_ylabel(\"f(x)\")\n",
    "    ax.grid(True)\n",
    "    ax.legend()\n",
    "    return fig\n",
    "\n",
    "def main():\n",
    "    print(\"=== Panduan Penulisan Fungsi f(x) ===\")\n",
    "    print(\"Gunakan simbol matematika standar:\")\n",
    "    print(\"- Pangkat: gunakan '**'\")\n",
    "    print(\"- Perkalian: gunakan '*'\")\n",
    "    print(\"- Akar: gunakan 'sqrt(x)'\")\n",
    "    print(\"- Logaritma natural: gunakan 'ln(x)'\")\n",
    "    print(\"- Eksponensial: gunakan 'exp(x)'\")\n",
    "    print(\"- Fungsi lain yang didukung: sin(x), cos(x), tan(x), log(x, base)\")\n",
    "    print(\"Contoh input valid: x**3 - 2*x + 1, exp(x) - 4, ln(x + 1), sqrt(x)\")\n",
    "    print(\"====================================\")\n",
    "\n",
    "    user_input = input(\"Masukkan fungsi f(x): \")\n",
    "    a = float(input(\"Masukkan nilai a: \"))\n",
    "    b = float(input(\"Masukkan nilai b: \"))\n",
    "    f = user_func(user_input)\n",
    "    akar, iterasi_data = regula_falsi(f, a, b)\n",
    "\n",
    "    df = pd.DataFrame(iterasi_data, columns=[\"Iterasi\", \"a\", \"b\", \"c\", \"f(c)\"])\n",
    "    fig = plot_function(f, user_input, a, b, akar)\n",
    "    print(f\"Total Iterasi: {len(df)}\")\n",
    "    print(f\"Akar aproksimasi: {akar:.6f}\")\n",
    "    return df, fig"
   ]
  },
  {
   "cell_type": "code",
   "execution_count": null,
   "id": "1e37e399",
   "metadata": {},
   "outputs": [],
   "source": [
    "main()"
   ]
  }
 ],
 "metadata": {
  "kernelspec": {
   "display_name": "Python 3",
   "language": "python",
   "name": "python3"
  },
  "language_info": {
   "codemirror_mode": {
    "name": "ipython",
    "version": 3
   },
   "file_extension": ".py",
   "mimetype": "text/x-python",
   "name": "python",
   "nbconvert_exporter": "python",
   "pygments_lexer": "ipython3",
   "version": "3.13.3"
  }
 },
 "nbformat": 4,
 "nbformat_minor": 5
}
